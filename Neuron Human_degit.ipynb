{
 "cells": [
  {
   "cell_type": "code",
   "execution_count": 2,
   "id": "bb0ad223",
   "metadata": {},
   "outputs": [],
   "source": [
    "import numpy as np\n",
    "import matplotlib.pyplot as plt\n",
    "import random\n"
   ]
  },
  {
   "cell_type": "code",
   "execution_count": 3,
   "id": "6c2225b1",
   "metadata": {},
   "outputs": [],
   "source": [
    "X_train=np.loadtxt(\"E:/Neural-Network---MultiClass-Classifcation-with-Softmax/train_X.csv\",delimiter=',').T\n",
    "Y_train=np.loadtxt(\"E:/Neural-Network---MultiClass-Classifcation-with-Softmax/train_label.csv\",delimiter=',').T\n",
    "X_test=np.loadtxt(\"E:/Neural-Network---MultiClass-Classifcation-with-Softmax/test_X.csv\",delimiter=',').T\n",
    "Y_test=np.loadtxt(\"E:/Neural-Network---MultiClass-Classifcation-with-Softmax/test_label.csv\",delimiter=',').T"
   ]
  },
  {
   "cell_type": "code",
   "execution_count": 4,
   "id": "16c9c3f9",
   "metadata": {},
   "outputs": [
    {
     "data": {
      "text/plain": [
       "(784, 1000)"
      ]
     },
     "execution_count": 4,
     "metadata": {},
     "output_type": "execute_result"
    }
   ],
   "source": [
    "X_train.shape\n"
   ]
  },
  {
   "cell_type": "code",
   "execution_count": 6,
   "id": "a05d388b",
   "metadata": {},
   "outputs": [
    {
     "data": {
      "image/png": "[encoded data removed]",
      "text/plain": [
       "<Figure size 432x288 with 1 Axes>"
      ]
     },
     "metadata": {
      "needs_background": "light"
     },
     "output_type": "display_data"
    }
   ],
   "source": [
    "index = random.randrange(0, X_train.shape[1])\n",
    "plt.imshow(X_train[:, index].reshape(28, 28),cmap='gray')\n",
    "plt.show()"
   ]
  },
  {
   "cell_type": "code",
   "execution_count": 19,
   "id": "f2ae6ed3",
   "metadata": {},
   "outputs": [],
   "source": [
    "def tanh(x):\n",
    "    return np.tanh"
   ]
  },
  {
   "cell_type": "code",
   "execution_count": 6,
   "id": "87bafce9",
   "metadata": {},
   "outputs": [],
   "source": [
    "def relu(x):\n",
    "    return np.maximum(x,0)"
   ]
  },
  {
   "cell_type": "code",
   "execution_count": 53,
   "id": "d1489d66",
   "metadata": {},
   "outputs": [],
   "source": [
    "def softmax(x):\n",
    "    expX=np.exp(x)\n",
    "    return expX/np.sum(expX,axis=0)"
   ]
  },
  {
   "cell_type": "code",
   "execution_count": 22,
   "id": "170b3434",
   "metadata": {},
   "outputs": [],
   "source": [
    "def derivative_tanh(x):\n",
    "    return (1-np.power(x,2))\n",
    "def  derivative_relu(x):\n",
    "    return(np.array(x>0,dtype=np.float32))"
   ]
  },
  {
   "cell_type": "code",
   "execution_count": 65,
   "id": "92a800b9",
   "metadata": {},
   "outputs": [],
   "source": [
    "def initialize_parameters(n_x,n_h,n_y):\n",
    "    w1=np.random.randn(n_h,n_x)*0.01 #initialize a weigths by random values\n",
    "    b1=np.zeros((n_h,1))#iniitialize a bias values to zeors\n",
    "    w2=np.random.randn(n_y,n_h)*0.01\n",
    "    b2=np.zeros((n_y,1))\n",
    "    parameters={\n",
    "        \"w1\":w1,\n",
    "        \"b1\":b1,\n",
    "        \"w2\":w2,\n",
    "        \"b2\":b2\n",
    "    }\n",
    "    return parameters\n",
    "    \n",
    "    "
   ]
  },
  {
   "cell_type": "code",
   "execution_count": 64,
   "id": "c2fb26f4",
   "metadata": {},
   "outputs": [],
   "source": [
    "def forwardprog(x,parameters):\n",
    "    w1=parameters[\"w1\"]\n",
    "    b1=parameters[\"b1\"]\n",
    "    w2=parameters[\"w2\"]\n",
    "    b2=parameters[\"b2\"]\n",
    "    \n",
    "    z1=np.dot(w1,x)+b1\n",
    "    a1=relu(z1)\n",
    "    \n",
    "    z2=np.dot(w2,a1)+b2\n",
    "    a2=softmax(z2)\n",
    "    \n",
    "    forward_cache={\n",
    "        \"Z1\":z1,\n",
    "        \"A1\":a1,\n",
    "        \"Z2\":z2,\n",
    "        \"A2\":a2\n",
    "    }\n",
    "    return forward_cache"
   ]
  },
  {
   "cell_type": "code",
   "execution_count": 30,
   "id": "8e450f67",
   "metadata": {},
   "outputs": [],
   "source": [
    "def costfunction(a2,y):\n",
    "    m=y.shape[1]\n",
    "    cost=-(1/m)*np.sum(y*np.log(a2))\n",
    "    #cost=-(1/m)*np.sum(np.sum(y*np.log(a2,0),1))\n",
    "    return cost"
   ]
  },
  {
   "cell_type": "code",
   "execution_count": 67,
   "id": "0cb39628",
   "metadata": {},
   "outputs": [],
   "source": [
    "def backpropogation(x,y,parameters,forward_cache):\n",
    "    w1=parameters[\"w1\"]\n",
    "    b1=parameters[\"b1\"]\n",
    "    w2=parameters[\"w2\"]\n",
    "    b2=parameters[\"b2\"]\n",
    "    \n",
    "    a1=forward_cache[\"A1\"]\n",
    "    a2=forward_cache[\"A2\"]\n",
    "    \n",
    "    m=x.shape[1]\n",
    "    \n",
    "    dz2=(a2-y)\n",
    "    \n",
    "    dw2=(1/m)*np.dot(dz2,a1.T)\n",
    "    db2=(1/m)*np.sum(dz2,axis=1,keepdims=True)\n",
    "    \n",
    "    dz1=(1/m)*np.dot(w2.T,dz2)*derivative_relu(a1)\n",
    "    dw1=(1/m)*np.dot(dz1,x.T)\n",
    "    db1=(1/m)*np.sum(dz1,axis=1,keepdims=True)\n",
    "    gradients={\n",
    "        \"dw1\":dw1,\n",
    "        \"db1\":db1,\n",
    "        \"dw2\":dw2,\n",
    "        \"db2\":db2\n",
    "    }\n",
    "    \n",
    "    return gradients\n",
    "    "
   ]
  },
  {
   "cell_type": "code",
   "execution_count": 69,
   "id": "c8f1b405",
   "metadata": {},
   "outputs": [],
   "source": [
    "def update_parameters(parameters,gradients,learningrate):\n",
    "    w1=parameters[\"w1\"]\n",
    "    b1=parameters[\"b1\"]\n",
    "    w2=parameters[\"w2\"]\n",
    "    b2=parameters[\"b2\"]\n",
    "    \n",
    "    dw1=gradients[\"dw1\"]\n",
    "    db1=gradients['db1']\n",
    "    dw2=gradients[\"dw2\"]\n",
    "    db2=gradients[\"db2\"]\n",
    "    \n",
    "    w1=w1-learningrate*dw1\n",
    "    b1=b1-learningrate*db1 \n",
    "    w2=w2-learningrate*dw2\n",
    "    b2=b2-learningrate*db2 \n",
    "    \n",
    "    parameters={\n",
    "        \"w1\":w1,\n",
    "        \"b1\":b1,\n",
    "        \"w2\":w2,\n",
    "        \"b2\":b2\n",
    "    }\n",
    "    return parameters\n",
    "    \n",
    "    "
   ]
  },
  {
   "cell_type": "code",
   "execution_count": 76,
   "id": "5da7814b",
   "metadata": {},
   "outputs": [],
   "source": [
    "def model(x,y,n_h,learningrate,iterations):\n",
    "    n_x=x.shape[0]\n",
    "    n_y=y.shape[0]\n",
    "    cos_list=[]\n",
    "    \n",
    "    parameters=initialize_parameters(n_x,n_h,n_y)\n",
    "    for i in range(iterations):\n",
    "        forward_cache=forwardprog(x,parameters)\n",
    "        cost=costfunction(forward_cache['A2'],y)\n",
    "        gradients=backpropogation(x,y,parameters,forward_cache)\n",
    "        parameters=update_parameters(parameters,gradients,learningrate)\n",
    "        cos_list.append(cost)\n",
    "        if (i%(iterations/10)==0):\n",
    "            print(\"cost after: \",i ,\"iterations:\",cost)\n",
    "        \n",
    "    return parameters,cos_list"
   ]
  },
  {
   "cell_type": "code",
   "execution_count": 77,
   "id": "bcd0063d",
   "metadata": {},
   "outputs": [
    {
     "name": "stdout",
     "output_type": "stream",
     "text": [
      "cost after:  0 iterations: 7.412478356187768\n",
      "cost after:  10 iterations: 31.228307429128744\n",
      "cost after:  20 iterations: 4.451648504115475\n",
      "cost after:  30 iterations: 2.607737470927175\n",
      "cost after:  40 iterations: 0.8260511408852744\n",
      "cost after:  50 iterations: 0.27896920653755536\n",
      "cost after:  60 iterations: 0.1401241871652843\n",
      "cost after:  70 iterations: 0.15711501776639802\n",
      "cost after:  80 iterations: 0.7424595694269128\n",
      "cost after:  90 iterations: 0.37865402355634026\n"
     ]
    }
   ],
   "source": [
    "itera=100\n",
    "n_h=1000\n",
    "Parameters,cos_list=model(X_train,Y_train,n_h=n_h,learningrate=0.002,iterations=itera)"
   ]
  },
  {
   "cell_type": "code",
   "execution_count": 79,
   "id": "932fe860",
   "metadata": {},
   "outputs": [
    {
     "data": {
      "image/png": "[encoded data removed]",
      "text/plain": [
       "<Figure size 432x288 with 1 Axes>"
      ]
     },
     "metadata": {
      "needs_background": "light"
     },
     "output_type": "display_data"
    }
   ],
   "source": [
    "t=np.arange(0,itera)\n",
    "plt.plot(t,cos_list)\n",
    "plt.show()"
   ]
  },
  {
   "cell_type": "code",
   "execution_count": 84,
   "id": "b1566c33",
   "metadata": {},
   "outputs": [],
   "source": [
    "def accurecy(inp,labels,parameters):\n",
    "    forwars_cache=forwardprog(X_train,Parameters)\n",
    "    a_out=forwars_cache['A2']\n",
    "    a_out=np.argmax(a_out,0)\n",
    "    y_out=np.argmax(Y_train,0)\n",
    "    acc=np.mean(a_out==y_out)*100\n",
    "    return acc\n"
   ]
  },
  {
   "cell_type": "code",
   "execution_count": 88,
   "id": "2b00d446",
   "metadata": {},
   "outputs": [
    {
     "data": {
      "text/plain": [
       "99.3"
      ]
     },
     "execution_count": 88,
     "metadata": {},
     "output_type": "execute_result"
    }
   ],
   "source": [
    "accurecy(X_test,Y_test,Parameters)"
   ]
  },
  {
   "cell_type": "code",
   "execution_count": 99,
   "id": "098c720f",
   "metadata": {},
   "outputs": [
    {
     "data": {
      "image/png": "[encoded data removed]",
      "text/plain": [
       "<Figure size 432x288 with 1 Axes>"
      ]
     },
     "metadata": {
      "needs_background": "light"
     },
     "output_type": "display_data"
    },
    {
     "data": {
      "text/plain": [
       "4"
      ]
     },
     "execution_count": 99,
     "metadata": {},
     "output_type": "execute_result"
    }
   ],
   "source": [
    "idx = random.randrange(0, X_test.shape[1])\n",
    "plt.imshow(X_train[:, idx].reshape(28, 28),cmap='gray')\n",
    "plt.show()\n",
    "forwars_cache=forwardprog(X_test[:,idx].reshape(X_test.shape[0],1),Parameters)\n",
    "a_out=forwars_cache['A2']\n",
    "a_out=np.argmax(a_out,0)\n",
    "a_out[0]"
   ]
  },
  {
   "cell_type": "code",
   "execution_count": 2,
   "id": "fc3a8612",
   "metadata": {},
   "outputs": [
    {
     "data": {
      "text/plain": [
       "array([[ 0.0357245 ,  0.25134452, -1.85464263, -0.80563977, -1.54787592],\n",
       "       [-1.29375774, -0.55436217, -0.00328879,  0.80004258, -0.74972814],\n",
       "       [-0.97501395, -0.3311197 ,  0.70203656, -0.02698209,  1.29010518]])"
      ]
     },
     "execution_count": 2,
     "metadata": {},
     "output_type": "execute_result"
    }
   ],
   "source": [
    "w1=np.random.randn(3,5)\n",
    "w1"
   ]
  },
  {
   "cell_type": "code",
   "execution_count": 5,
   "id": "21307dac",
   "metadata": {},
   "outputs": [
    {
     "data": {
      "text/plain": [
       "array([[0.],\n",
       "       [0.]])"
      ]
     },
     "execution_count": 5,
     "metadata": {},
     "output_type": "execute_result"
    }
   ],
   "source": [
    "b1=np.zeros((2,1))\n",
    "b1"
   ]
  },
  {
   "cell_type": "code",
   "execution_count": 8,
   "id": "eeba21c1",
   "metadata": {},
   "outputs": [],
   "source": [
    "z1=np.dot(3,4)+b1\n",
    "a1=relu(z1)"
   ]
  },
  {
   "cell_type": "code",
   "execution_count": 12,
   "id": "4570ad48",
   "metadata": {},
   "outputs": [
    {
     "data": {
      "text/plain": [
       "array([[12.],\n",
       "       [12.]])"
      ]
     },
     "execution_count": 12,
     "metadata": {},
     "output_type": "execute_result"
    }
   ],
   "source": [
    "a1"
   ]
  },
  {
   "cell_type": "code",
   "execution_count": null,
   "id": "b717ba83",
   "metadata": {},
   "outputs": [],
   "source": []
  }
 ],
 "metadata": {
  "kernelspec": {
   "display_name": "Python 3 (ipykernel)",
   "language": "python",
   "name": "python3"
  },
  "language_info": {
   "codemirror_mode": {
    "name": "ipython",
    "version": 3
   },
   "file_extension": ".py",
   "mimetype": "text/x-python",
   "name": "python",
   "nbconvert_exporter": "python",
   "pygments_lexer": "ipython3",
   "version": "3.9.12"
  }
 },
 "nbformat": 4,
 "nbformat_minor": 5
}
